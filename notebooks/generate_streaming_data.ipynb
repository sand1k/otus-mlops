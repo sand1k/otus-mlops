{
 "cells": [
  {
   "cell_type": "code",
   "execution_count": 19,
   "id": "9b7173cd-2067-4f30-bae3-844bceb6c64e",
   "metadata": {},
   "outputs": [
    {
     "name": "stdout",
     "output_type": "stream",
     "text": [
      "+---------+--------------------+\n",
      "|      key|               value|\n",
      "+---------+--------------------+\n",
      "|126823301|{\"transaction_id\"...|\n",
      "|126382219|{\"transaction_id\"...|\n",
      "|126051921|{\"transaction_id\"...|\n",
      "|126629952|{\"transaction_id\"...|\n",
      "|125993361|{\"transaction_id\"...|\n",
      "|125498048|{\"transaction_id\"...|\n",
      "|125313771|{\"transaction_id\"...|\n",
      "|125346002|{\"transaction_id\"...|\n",
      "+---------+--------------------+\n",
      "\n"
     ]
    }
   ],
   "source": [
    "import findspark\n",
    "findspark.init()\n",
    "\n",
    "import pyspark\n",
    "from pyspark.sql.functions import col, to_json, struct\n",
    "\n",
    "KAFKA_BOOTSTRAP_SERVERS = \"rc1a-ifa7kf257ig8r7cm.mdb.yandexcloud.net:9091\"\n",
    "KAFKA_TOPIC = \"transactions\"\n",
    "\n",
    "if __name__ == \"__main__\":\n",
    "    spark = (\n",
    "        pyspark.sql.SparkSession.builder\n",
    "            .appName(\"spark_kafka_produce\")\n",
    "            .getOrCreate()\n",
    "    )\n",
    "    sc = spark.sparkContext\n",
    "    sc.setLogLevel(\"WARN\")\n",
    "    \n",
    "    df = spark.read.parquet(\"/user/transformed_full/year=2019/month=11/day=10/\")\n",
    "    \n",
    "    sample_count = 10\n",
    "    sampled = df.sample(1.0*sample_count/df.count()).limit(sample_count)\n",
    "    \n",
    "    columns = [\n",
    "        \"transaction_id\",\n",
    "        \"ts\",\n",
    "        \"tx_amount\",\n",
    "        \"is_weekend\",\n",
    "        \"is_night\",\n",
    "        \"customer_id_nb_tx_1day_window\",\n",
    "        \"customer_id_avg_amount_1day_window\",\n",
    "        \"customer_id_nb_tx_7day_window\",\n",
    "        \"customer_id_avg_amount_7day_window\",\n",
    "        \"customer_id_nb_tx_30day_window\",\n",
    "        \"customer_id_avg_amount_30day_window\",\n",
    "        \"terminal_id_nb_tx_1day_window\",\n",
    "        \"terminal_id_risk_1day_window\",\n",
    "        \"terminal_id_nb_tx_7day_window\",\n",
    "        \"terminal_id_risk_7day_window\",\n",
    "        \"terminal_id_nb_tx_30day_window\",\n",
    "        \"terminal_id_risk_30day_window\",\n",
    "        \"tx_fraud\"\n",
    "    ]\n",
    "    sampled = sampled.select(columns)\n",
    "\n",
    "    df_kafka = sampled.select(\n",
    "        col(\"transaction_id\").cast(\"string\"),\n",
    "        to_json(struct([sampled[x] for x in sampled.columns]))\n",
    "    ).toDF(\"key\", \"value\")\n",
    "    \n",
    "    df_kafka.show()\n",
    "    \n",
    "    (df_kafka\n",
    "        .write.format(\"kafka\")\n",
    "        .option(\"kafka.bootstrap.servers\", KAFKA_BOOTSTRAP_SERVERS)\n",
    "        .option(\"kafka.security.protocol\", \"SASL_SSL\")\n",
    "        .option(\"kafka.sasl.mechanism\", \"SCRAM-SHA-512\")\n",
    "        .option(\"kafka.sasl.jaas.config\", \"org.apache.kafka.common.security.scram.ScramLoginModule required username='kafka_user' password='kafka_user';\")\n",
    "        .option(\"kafka.ssl.truststore.location\", \"/etc/security/ssl\")\n",
    "        .option(\"kafka.ssl.truststore.password\", \"asdasdasd\")\n",
    "        .option(\"topic\", KAFKA_TOPIC)\n",
    "        .save()\n",
    "    )\n",
    "    \n",
    "    spark.stop()\n"
   ]
  },
  {
   "cell_type": "code",
   "execution_count": null,
   "id": "c636752a-9a96-4283-be47-86ed9f2ecac9",
   "metadata": {},
   "outputs": [],
   "source": []
  }
 ],
 "metadata": {
  "kernelspec": {
   "display_name": "Python 3",
   "language": "python",
   "name": "python3"
  },
  "language_info": {
   "codemirror_mode": {
    "name": "ipython",
    "version": 3
   },
   "file_extension": ".py",
   "mimetype": "text/x-python",
   "name": "python",
   "nbconvert_exporter": "python",
   "pygments_lexer": "ipython3",
   "version": "3.8.10"
  }
 },
 "nbformat": 4,
 "nbformat_minor": 5
}
